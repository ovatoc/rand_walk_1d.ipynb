{
  "nbformat": 4,
  "nbformat_minor": 0,
  "metadata": {
    "colab": {
      "provenance": []
    },
    "kernelspec": {
      "name": "python3",
      "display_name": "Python 3"
    },
    "language_info": {
      "name": "python"
    }
  },
  "cells": [
    {
      "cell_type": "markdown",
      "source": [
        "1. 1-D mean distance:\n",
        "Semakin besar Nrep, hasil mean distance semakin halus dan mendekati nol karena fluktuasi acak berkurang (~1/√Nrep).\n",
        "\n",
        "2. 2-D mean distance:\n",
        "Mean distance rata-rata tumbuh ∝ √N. Dengan Nrep besar, nilai menjadi lebih stabil dan mendekati pola teoritis tersebut.\n",
        "\n",
        "3. 1-D mean squared distance:\n",
        "Nilai mean squared distance meningkat linier terhadap jumlah langkah (∝ N). Nrep besar membuat hasil lebih akurat dan kurva lebih halus.\n",
        "\n",
        "4. 2-D mean squared distance:\n",
        "Sama seperti 1-D, mean squared distance ∝ N, dan Nrep besar mengurangi noise sehingga kurva mendekati garis teoritis.\n",
        "\n",
        "5. Kesimpulan umum (n-D):\n",
        "\n",
        "- Mean distance ∝ √N\n",
        "\n",
        "- Mean squared distance ∝ N\n",
        "\n",
        "- Nrep besar → hasil lebih stabil, halus, dan mendekati nilai ekspektasi sebenarnya karena error berkurang ~1/√Nrep."
      ],
      "metadata": {
        "id": "GwMqq8ONPrEB"
      }
    }
  ]
}